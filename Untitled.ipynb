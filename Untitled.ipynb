{
 "cells": [
  {
   "cell_type": "code",
   "execution_count": 1,
   "metadata": {},
   "outputs": [],
   "source": [
    "import pandas as pd\n",
    "import numpy as np\n",
    "import statsmodels.api as sm\n",
    "from statsmodels.formula.api import ols\n",
    "import matplotlib.pyplot as plt\n",
    "%matplotlib inline\n",
    "import seaborn as sns\n",
    "import math\n",
    "from math import sin, cos, sqrt, atan2, radians"
   ]
  },
  {
   "cell_type": "code",
   "execution_count": 2,
   "metadata": {},
   "outputs": [],
   "source": [
    "df = pd.read_csv('kc_house_data.csv')"
   ]
  },
  {
   "cell_type": "code",
   "execution_count": 34,
   "metadata": {},
   "outputs": [],
   "source": [
    "def check_na (column):\n",
    "    print(column, ':', '{:.2%}'.format(df[column].isna().sum()/len(df.index)))"
   ]
  },
  {
   "cell_type": "code",
   "execution_count": 35,
   "metadata": {},
   "outputs": [
    {
     "name": "stdout",
     "output_type": "stream",
     "text": [
      "waterfront : 11.00%\n"
     ]
    }
   ],
   "source": [
    "check_na('waterfront')"
   ]
  },
  {
   "cell_type": "code",
   "execution_count": 36,
   "metadata": {},
   "outputs": [
    {
     "data": {
      "text/plain": [
       "id                  0\n",
       "date                0\n",
       "price               0\n",
       "bedrooms            0\n",
       "bathrooms           0\n",
       "sqft_living         0\n",
       "sqft_lot            0\n",
       "floors              0\n",
       "waterfront       2376\n",
       "view               63\n",
       "condition           0\n",
       "grade               0\n",
       "sqft_above          0\n",
       "sqft_basement       0\n",
       "yr_built            0\n",
       "yr_renovated     3842\n",
       "zipcode             0\n",
       "lat                 0\n",
       "long                0\n",
       "sqft_living15       0\n",
       "sqft_lot15          0\n",
       "dtype: int64"
      ]
     },
     "execution_count": 36,
     "metadata": {},
     "output_type": "execute_result"
    }
   ],
   "source": [
    "df.isna().sum()"
   ]
  },
  {
   "cell_type": "code",
   "execution_count": 37,
   "metadata": {},
   "outputs": [
    {
     "name": "stdout",
     "output_type": "stream",
     "text": [
      "waterfront : 11.00%\n",
      "view : 0.29%\n",
      "yr_renovated : 17.79%\n"
     ]
    }
   ],
   "source": [
    "check_na('waterfront')\n",
    "check_na('view')\n",
    "check_na('yr_renovated')"
   ]
  },
  {
   "cell_type": "code",
   "execution_count": 39,
   "metadata": {},
   "outputs": [
    {
     "data": {
      "text/plain": [
       "id               0\n",
       "date             0\n",
       "price            0\n",
       "bedrooms         0\n",
       "bathrooms        0\n",
       "sqft_living      0\n",
       "sqft_lot         0\n",
       "floors           0\n",
       "waterfront       0\n",
       "view             0\n",
       "condition        0\n",
       "grade            0\n",
       "sqft_above       0\n",
       "sqft_basement    0\n",
       "yr_built         0\n",
       "yr_renovated     0\n",
       "zipcode          0\n",
       "lat              0\n",
       "long             0\n",
       "sqft_living15    0\n",
       "sqft_lot15       0\n",
       "dtype: int64"
      ]
     },
     "execution_count": 39,
     "metadata": {},
     "output_type": "execute_result"
    }
   ],
   "source": [
    "df.yr_renovated = df.yr_renovated.fillna(value=0)\n",
    "df = df.dropna()\n",
    "df.isnull().sum()"
   ]
  },
  {
   "cell_type": "code",
   "execution_count": 41,
   "metadata": {},
   "outputs": [],
   "source": [
    "df = df.drop(df[df.price >=6890000].index)\n",
    "df = df.drop(df[df.bedrooms == 33].index)\n",
    "df = df.drop(df[df.sqft_living == 13540].index)"
   ]
  },
  {
   "cell_type": "code",
   "execution_count": 42,
   "metadata": {},
   "outputs": [],
   "source": [
    "def logging (column,dataframe):\n",
    "    return np.log(dataframe[column])"
   ]
  },
  {
   "cell_type": "code",
   "execution_count": 44,
   "metadata": {},
   "outputs": [],
   "source": [
    "data_log = pd.DataFrame([])\n",
    "test = logging('sqft_living',df)"
   ]
  },
  {
   "cell_type": "code",
   "execution_count": 45,
   "metadata": {},
   "outputs": [
    {
     "data": {
      "text/plain": [
       "1        7.851661\n",
       "2        6.646391\n",
       "3        7.580700\n",
       "4        7.426549\n",
       "5        8.597851\n",
       "6        7.447168\n",
       "8        7.484369\n",
       "9        7.544332\n",
       "11       7.056175\n",
       "12       7.265430\n",
       "13       7.222566\n",
       "14       7.501082\n",
       "15       7.989560\n",
       "16       7.544332\n",
       "17       7.377759\n",
       "18       7.090077\n",
       "19       7.130899\n",
       "20       7.390181\n",
       "21       8.022897\n",
       "22       7.727535\n",
       "24       7.803843\n",
       "25       7.444249\n",
       "26       7.803843\n",
       "27       7.244228\n",
       "28       7.326466\n",
       "29       7.851661\n",
       "30       7.749322\n",
       "31       7.081709\n",
       "32       7.753624\n",
       "33       6.993933\n",
       "           ...   \n",
       "21559    8.034955\n",
       "21560    8.486734\n",
       "21561    7.549609\n",
       "21563    7.455877\n",
       "21564    7.930206\n",
       "21565    7.930206\n",
       "21566    7.313220\n",
       "21568    7.138867\n",
       "21569    7.533694\n",
       "21570    7.265430\n",
       "21571    7.326466\n",
       "21572    7.098376\n",
       "21573    7.839919\n",
       "21574    8.499029\n",
       "21575    7.926603\n",
       "21576    7.081709\n",
       "21577    8.335671\n",
       "21579    7.333023\n",
       "21580    8.188689\n",
       "21581    8.134468\n",
       "21583    8.291547\n",
       "21584    8.405144\n",
       "21585    7.261927\n",
       "21588    7.306531\n",
       "21590    8.163371\n",
       "21591    7.177782\n",
       "21592    7.333023\n",
       "21593    7.745003\n",
       "21594    6.927558\n",
       "21596    6.927558\n",
       "Name: sqft_living, Length: 19159, dtype: float64"
      ]
     },
     "execution_count": 45,
     "metadata": {},
     "output_type": "execute_result"
    }
   ],
   "source": []
  },
  {
   "cell_type": "code",
   "execution_count": null,
   "metadata": {},
   "outputs": [],
   "source": []
  }
 ],
 "metadata": {
  "kernelspec": {
   "display_name": "learn-env",
   "language": "python",
   "name": "learn-env"
  },
  "language_info": {
   "codemirror_mode": {
    "name": "ipython",
    "version": 3
   },
   "file_extension": ".py",
   "mimetype": "text/x-python",
   "name": "python",
   "nbconvert_exporter": "python",
   "pygments_lexer": "ipython3",
   "version": "3.6.6"
  }
 },
 "nbformat": 4,
 "nbformat_minor": 2
}
